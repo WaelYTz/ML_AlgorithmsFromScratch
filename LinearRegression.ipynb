{
 "cells": [
  {
   "cell_type": "markdown",
   "metadata": {
    "id": "NDpHlTAQ3VfL"
   },
   "source": [
    "# **Linear Regression from Scratch**"
   ]
  },
  {
   "cell_type": "markdown",
   "metadata": {
    "id": "3YaGbtoU304M"
   },
   "source": [
    "# DATA"
   ]
  },
  {
   "cell_type": "code",
   "execution_count": 2,
   "metadata": {
    "id": "JHKuVGiF35Wq"
   },
   "outputs": [],
   "source": [
    "import numpy as np\n",
    "\n",
    "# Sample data\n",
    "X = np.array([[1, 2], [2, 3], [3, 4], [4, 5], [5, 6], [6, 7]])  # 6x2 matrix\n",
    "y = np.array([5, 7, 9, 11, 13, 15])  # Target values of size 6\n",
    "\n",
    "# Initialize weights(b) and bias\n",
    "weights = np.random.rand(2)\n",
    "bias = np.random.rand(1)"
   ]
  },
  {
   "cell_type": "markdown",
   "metadata": {
    "id": "oamGas0H4lPa"
   },
   "source": [
    "# Small Data Set"
   ]
  },
  {
   "cell_type": "code",
   "execution_count": 3,
   "metadata": {
    "id": "f9poGAVv4sca"
   },
   "outputs": [],
   "source": [
    "beta=np.dot(np.linalg.inv(np.dot(X.T, X)), np.dot(X.T, y))"
   ]
  },
  {
   "cell_type": "markdown",
   "metadata": {
    "id": "5XcheryoCwbq"
   },
   "source": [
    "# Large Data Set"
   ]
  },
  {
   "cell_type": "markdown",
   "metadata": {
    "id": "_t9JfXz53bUb"
   },
   "source": [
    "## MSE"
   ]
  },
  {
   "cell_type": "code",
   "execution_count": 4,
   "metadata": {
    "id": "hngG9WZn6V5y"
   },
   "outputs": [],
   "source": [
    "def mse(y_true, y_pred):\n",
    "    # Calculate and return the Mean Squared Error\n",
    "    return np.mean((y_true - y_pred) ** 2)"
   ]
  },
  {
   "cell_type": "markdown",
   "metadata": {
    "id": "jFR_ie6Y3kjz"
   },
   "source": [
    "# Gradiant Decent"
   ]
  },
  {
   "cell_type": "code",
   "execution_count": 6,
   "metadata": {
    "id": "qkYPMq6y3Gl7"
   },
   "outputs": [],
   "source": [
    "def gradient_descent(X, y, weights, bias, learning_rate=0.01, epochs=1000):\n",
    "    # Implement Gradient Descent to optimize weights and bias\n",
    "    n = len(y)\n",
    "    for epoch in range(epochs):\n",
    "        y_pred = np.dot(X, weights) + bias\n",
    "\n",
    "        dW = -(2/n) * np.dot(X.T, (y - y_pred))\n",
    "        dB = -(2/n) * np.sum(y - y_pred)\n",
    "\n",
    "        weights -= learning_rate * dW\n",
    "        bias -= learning_rate * dB\n",
    "    return weights, bias"
   ]
  },
  {
   "cell_type": "markdown",
   "metadata": {
    "id": "EtNilvz23sPy"
   },
   "source": [
    "# Linear Regression"
   ]
  },
  {
   "cell_type": "code",
   "execution_count": 7,
   "metadata": {
    "id": "O8CWy7DV3wi6"
   },
   "outputs": [],
   "source": [
    "class LinearRegression:\n",
    "    def __init__(self, learning_rate=0.01, epochs=1000):\n",
    "        self.learning_rate = learning_rate\n",
    "        self.epochs = epochs\n",
    "        self.weights = None\n",
    "        self.bias = None\n",
    "\n",
    "    def fit(self, X, y):\n",
    "        # Initialize weights and bias, then use gradient descent to optimize\n",
    "        n_samples, n_features = X.shape\n",
    "        self.weights = np.zeros(n_features)\n",
    "        self.bias = 0\n",
    "\n",
    "        self.weights, self.bias = gradient_descent(X, y, self.weights, self.bias,\n",
    "                                                   learning_rate=self.learning_rate,\n",
    "                                                   epochs=self.epochs)\n",
    "    def predict(self, X):\n",
    "        # Make predictions using the learned weights and bias\n",
    "        return np.dot(X, self.weights) + self.bias"
   ]
  },
  {
   "cell_type": "markdown",
   "metadata": {
    "id": "8jU1AlYH8tzr"
   },
   "source": [
    "# Test"
   ]
  },
  {
   "cell_type": "code",
   "execution_count": 8,
   "metadata": {
    "colab": {
     "base_uri": "https://localhost:8080/"
    },
    "id": "kZ6nKLVZ6wzr",
    "outputId": "a55af980-d3c4-43ad-ac3f-c2125cc5658b"
   },
   "outputs": [
    {
     "name": "stdout",
     "output_type": "stream",
     "text": [
      "Predictions: [ 4.98751166  6.99141281  8.99531395 10.99921509 13.00311623 15.00701737]\n",
      "MSE on training data: 5.1871332170763624e-05\n"
     ]
    }
   ],
   "source": [
    "# Initialize the model\n",
    "model = LinearRegression(learning_rate=0.01, epochs=1000)\n",
    "\n",
    "# Train the model\n",
    "model.fit(X, y)\n",
    "\n",
    "# Make predictions\n",
    "predictions = model.predict(X)\n",
    "print(\"Predictions:\", predictions)\n",
    "print(\"MSE on training data:\", mse(y, predictions))"
   ]
  }
 ],
 "metadata": {
  "colab": {
   "provenance": []
  },
  "kernelspec": {
   "display_name": "Python 3",
   "name": "python3"
  },
  "language_info": {
   "codemirror_mode": {
    "name": "ipython",
    "version": 3
   },
   "file_extension": ".py",
   "mimetype": "text/x-python",
   "name": "python",
   "nbconvert_exporter": "python",
   "pygments_lexer": "ipython3",
   "version": "3.13.0"
  }
 },
 "nbformat": 4,
 "nbformat_minor": 0
}
