{
 "cells": [
  {
   "cell_type": "markdown",
   "metadata": {},
   "source": [
    "# **Logistic Regression from Scratch**"
   ]
  },
  {
   "cell_type": "markdown",
   "metadata": {},
   "source": [
    "# **DATA**"
   ]
  },
  {
   "cell_type": "code",
   "execution_count": 4,
   "metadata": {},
   "outputs": [],
   "source": [
    "import numpy as np\n",
    "\n",
    "# Sample data for binary classification\n",
    "X = np.array([\n",
    "    [2, 3], [3, 5], [5, 8], [6, 9], [8, 10],  # Class 1\n",
    "    [1, 1], [1, 2], [2, 1], [3, 1], [3, 2]   # Class 0\n",
    "])  # 10x2 matrix\n",
    "\n",
    "y = np.array([1, 1, 1, 1, 1, 0, 0, 0, 0, 0])  # Target values\n",
    "\n",
    "# Initialize weights and bias\n",
    "weights = np.random.rand(2)\n",
    "bias = np.random.rand(1)"
   ]
  },
  {
   "cell_type": "markdown",
   "metadata": {},
   "source": [
    "# **Cost function**"
   ]
  },
  {
   "cell_type": "code",
   "execution_count": 5,
   "metadata": {},
   "outputs": [],
   "source": [
    "def cost_function(y, y_pred):\n",
    "    n = len(y)\n",
    "    # Adding a small constant to avoid log(0)\n",
    "    epsilon = 1e-10\n",
    "    cost = -(1 / n) * np.sum(y * np.log(y_pred + epsilon) + (1 - y) * np.log(1 - y_pred + epsilon))\n",
    "    return cost"
   ]
  },
  {
   "cell_type": "markdown",
   "metadata": {},
   "source": [
    "# **sigmoid**"
   ]
  },
  {
   "cell_type": "code",
   "execution_count": 6,
   "metadata": {},
   "outputs": [],
   "source": [
    "def sigmoid(x):\n",
    "    return 1 / (1 + np.exp(-x))"
   ]
  },
  {
   "cell_type": "markdown",
   "metadata": {},
   "source": [
    "# **gradient descent**"
   ]
  },
  {
   "cell_type": "code",
   "execution_count": 7,
   "metadata": {},
   "outputs": [],
   "source": [
    "def gradient_descent(X, y, weights, bias, learning_rate=0.01, epochs=1000):\n",
    "    n = len(y)\n",
    "    \n",
    "    for epoch in range(epochs):\n",
    "        linear_pred = np.dot(X, weights) + bias\n",
    "        y_pred = sigmoid(linear_pred)\n",
    "\n",
    "        dW = (1 / n) * np.dot(X.T, (y_pred - y))\n",
    "        dB = (1 / n) * np.sum(y_pred - y)\n",
    "\n",
    "        weights -= learning_rate * dW\n",
    "        bias -= learning_rate * dB\n",
    "    \n",
    "    return weights, bias"
   ]
  },
  {
   "cell_type": "markdown",
   "metadata": {},
   "source": [
    "# **Logistic Regression**"
   ]
  },
  {
   "cell_type": "code",
   "execution_count": 8,
   "metadata": {},
   "outputs": [],
   "source": [
    "class LogisticRegression():\n",
    "\n",
    "    def __init__(self, learning_rate=0.01, epochs=1000):\n",
    "        self.learning_rate = learning_rate\n",
    "        self.epochs = epochs\n",
    "        self.weights = None\n",
    "        self.bias = None\n",
    "\n",
    "\n",
    "    def fit(self , X, y):\n",
    "        n_samples, n_features = X.shape\n",
    "        self.weights = np.zeros(n_features)\n",
    "        self.bias = 0\n",
    "\n",
    "        self.weights, self.bias = gradient_descent(X, y, self.weights, self.bias, \n",
    "                                                   learning_rate=self.learning_rate, \n",
    "                                                   epochs=self.epochs) \n",
    "    def predict_proba(self, X):\n",
    "        # Returns the predicted probabilities for each class\n",
    "\n",
    "        linear_pred = np.dot(X, self.weights) + self.bias\n",
    "        return sigmoid(linear_pred)\n",
    "        \n",
    "    def predict(self, X):\n",
    "        \n",
    "        y_pred = self.predict_proba(X)\n",
    "        class_pred = [0 if y <= 0.5 else 1 for y in y_pred]\n",
    "        return np.array(class_pred)"
   ]
  },
  {
   "cell_type": "markdown",
   "metadata": {},
   "source": [
    "# **TEST**"
   ]
  },
  {
   "cell_type": "code",
   "execution_count": 9,
   "metadata": {},
   "outputs": [
    {
     "name": "stdout",
     "output_type": "stream",
     "text": [
      "Predictions: [1 1 1 1 1 0 1 0 0 0]\n",
      "Binary Cross-Entropy Loss on training data: 0.23804971173967748\n"
     ]
    }
   ],
   "source": [
    "# Initialize the logistic regression model\n",
    "model = LogisticRegression(learning_rate=0.01, epochs=1000)\n",
    "\n",
    "# Train the model\n",
    "model.fit(X, y)\n",
    "\n",
    "# Make predictions\n",
    "predictions = model.predict(X)\n",
    "\n",
    "# Calculate binary cross-entropy loss on training data\n",
    "y_pred_proba = model.predict_proba(X)\n",
    "loss = cost_function(y, y_pred_proba)\n",
    "\n",
    "print(\"Predictions:\", predictions)\n",
    "print(\"Binary Cross-Entropy Loss on training data:\", loss)"
   ]
  }
 ],
 "metadata": {
  "kernelspec": {
   "display_name": "Python 3",
   "language": "python",
   "name": "python3"
  },
  "language_info": {
   "codemirror_mode": {
    "name": "ipython",
    "version": 3
   },
   "file_extension": ".py",
   "mimetype": "text/x-python",
   "name": "python",
   "nbconvert_exporter": "python",
   "pygments_lexer": "ipython3",
   "version": "3.13.0"
  }
 },
 "nbformat": 4,
 "nbformat_minor": 2
}
